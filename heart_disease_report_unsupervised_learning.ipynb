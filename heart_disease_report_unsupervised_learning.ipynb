{
 "cells": [
  {
   "cell_type": "markdown",
   "id": "4290dfb4",
   "metadata": {},
   "source": [
    "# IBM Unsupervised Learning Capstone Project\n",
    "\n",
    "*by Lucian Popa*\n",
    "\n",
    "**Februry, 2022**"
   ]
  },
  {
   "cell_type": "markdown",
   "id": "602711d0",
   "metadata": {},
   "source": [
    "## Introduction\n",
    "\n",
    "The heart is an amazing organ. It continuously pumps oxygen and nutrient-rich blood throughout your body to sustain life. This fist-sized powerhouse beats (expands and contracts) 100,000 times per day pumping 23,000 liters (5,000 gallons) of blood every day. To work properly, the heart (just like any other muscle) needs a good blood supply.   \n",
    "WHO announced that cardiovascular diseases is the top one killer over the world. There are seventeen million people died from it every year, especially heart disease. Prevention is better than cure. If we can evaluate the risk of every patient who probably has heart disease, that is, not only patients but also everyone can do something earlier to keep illness away.\n",
    "\n",
    "A heart attack (also known as myocardial infarction; MI) is defined as the sudden blockage of blood flow to a portion of the heart. Some of the heart muscle begins to die during a heart attack, and without early medical treatment, the loss of the muscle could be permanent. \n",
    "\n",
    "Conditions such as high blood pressure, high blood cholesterol, obesity, and diabetes can raise the risk of a heart attack.  Behaviors such as an unhealthy diet, low levels of physical activity, smoking, and excessive alcohol consumption can contribute to the conditions that can cause heart attacks.  Some factors, such as age and family history of heart disease, cannot be modified but are associated with a higher risk of a heart attack."
   ]
  },
  {
   "cell_type": "markdown",
   "id": "9dee218c",
   "metadata": {},
   "source": [
    "## Dataset\n",
    "\n",
    "For the exploration of the risk a person has to develop a heart attack, the [Heart Attack Analysis & Prediction Dataset](https://www.kaggle.com/rashikrahmanpritom/heart-attack-analysis-prediction-dataset) from *kaggle.com* was utilized. It consists of:\n",
    "\n",
    "+ Age of the patient (age in years)\n",
    "+ Sex of the patient (sex; 1 = male, 0 = female)\n",
    "+ Exercise induced angina (exng; 1 = yes, 0 = no)\n",
    "+ Number of major vessels (ca; 0-3)\n",
    "+ Chest pain type (cp; Value 1: typical angina, Value 2: atypical angina, Value 3: non-anginal pain, Value 4: asymptomatic)\n",
    "+ Resting blood pressure (trestpbs; in mm/Hg on admission to the hospital)\n",
    "+ Cholesterol levels (chol; in mg/dl)\n",
    "+ Fasting blood sugar (fbs; if > 120 mg/dl, 1 = true; 0 = false)\n",
    "+ Resting electrocardiographic results (rest_ecg; 0 = normal, 1 = having ST-T wave abnormality, 2 = showing probable or definite left ventricular hypertrophy by Estes’ criteria)\n",
    "+ Maximum heart rate achieved (thalach)\n",
    "+ Chance of heart attack (target: Heart disease)\n",
    "+ A blood disorder called thalassemia (thall; 1 = normal; 2 = fixed defect; 3 = reversable defect)\n",
    "+ Previous peak (oldpeak; ST depression induced by exercise relative to rest - ‘ST’ relates to positions on the ECG plot)\n",
    "+ Slope (slp; the slope of the peak exercise ST segment, Value 1: upsloping, Value 2: flat, Value 3: downsloping)"
   ]
  },
  {
   "cell_type": "markdown",
   "id": "a9e0b9ea",
   "metadata": {},
   "source": [
    "## The goal:\n",
    "\n",
    "The aim of this project is to apply unsupervised learning techniques to find whether an individual will develop a heart attack risk or not. More specifically, after some feature engineering and exploratory data analysis, the k-means and agglomerative clusteing algorithms will be explored."
   ]
  },
  {
   "cell_type": "code",
   "execution_count": null,
   "id": "289949ba",
   "metadata": {},
   "outputs": [],
   "source": []
  }
 ],
 "metadata": {
  "kernelspec": {
   "display_name": "Python 3 (ipykernel)",
   "language": "python",
   "name": "python3"
  },
  "language_info": {
   "codemirror_mode": {
    "name": "ipython",
    "version": 3
   },
   "file_extension": ".py",
   "mimetype": "text/x-python",
   "name": "python",
   "nbconvert_exporter": "python",
   "pygments_lexer": "ipython3",
   "version": "3.8.12"
  }
 },
 "nbformat": 4,
 "nbformat_minor": 5
}
